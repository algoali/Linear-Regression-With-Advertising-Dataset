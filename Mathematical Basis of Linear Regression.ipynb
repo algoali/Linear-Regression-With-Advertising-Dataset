{
 "cells": [
  {
   "cell_type": "markdown",
   "id": "fundamental-phoenix",
   "metadata": {},
   "source": [
    "## Mathematical Basis of Regression"
   ]
  },
  {
   "cell_type": "markdown",
   "id": "blocked-protest",
   "metadata": {},
   "source": [
    "Linear Regression, as its name suggests, is one of the oldest allogritms that accepts a linear relationship between X and y."
   ]
  },
  {
   "cell_type": "markdown",
   "id": "knowing-understanding",
   "metadata": {},
   "source": [
    "Real relationship:\n",
    "\n",
    "$$ y = \\beta_0 + \\beta_1X + \\epsilon $$"
   ]
  },
  {
   "cell_type": "markdown",
   "id": "assisted-value",
   "metadata": {},
   "source": [
    "Prediction (at any value x_i):\n",
    "\n",
    "$$ \\hat y_i = \\hat \\beta_0 + \\hat \\beta_1x_i $$"
   ]
  },
  {
   "cell_type": "markdown",
   "id": "ceramic-friday",
   "metadata": {},
   "source": [
    "Here the X's are the inputs, the variables we are trying to predict are $\\beta_0$ and $\\beta_1$."
   ]
  },
  {
   "cell_type": "markdown",
   "id": "electoral-press",
   "metadata": {},
   "source": [
    "We make the predict using the **Least Squares** method.\r\n",
    "\r\n",
    "`Ordinary Least Squares (OLS)`\r\n",
    "\r\n",
    "That is, again by calculating the total error squares."
   ]
  },
  {
   "cell_type": "markdown",
   "id": "soviet-master",
   "metadata": {},
   "source": [
    "Error at any point i:\n",
    "\n",
    "**e: residual error**\n",
    "\n",
    "$$ e_i = y_i - \\hat y_i $$"
   ]
  },
  {
   "cell_type": "markdown",
   "id": "seeing-shannon",
   "metadata": {},
   "source": [
    "**RSS: Residual Sum of Squares**\n",
    "\n",
    "$$RSS = e_1^2 + e_2^2 + ... + e_n^2$$"
   ]
  },
  {
   "cell_type": "markdown",
   "id": "ethical-structure",
   "metadata": {},
   "source": [
    "$$RSS = (y_1 - \\hat y_1)^2 + (y_2 - \\hat y_2)^2  + ... + (y_n - \\hat y_n)^2$$"
   ]
  },
  {
   "cell_type": "markdown",
   "id": "latin-webmaster",
   "metadata": {},
   "source": [
    "$$RSS = (y_1 - \\hat \\beta_0 - \\hat \\beta_1x_1)^2 + (y_2 - \\hat \\beta_0 - \\hat \\beta_1x_2)^2 + ... + (y_n - \\hat \\beta_0 - \\hat \\beta_1x_n)^2$$"
   ]
  },
  {
   "cell_type": "markdown",
   "id": "classical-proportion",
   "metadata": {},
   "source": [
    "The Least Squares method predicts the best $\\beta_0$ and $\\beta_1$ values by minimizing RSS."
   ]
  },
  {
   "cell_type": "markdown",
   "id": "incoming-flash",
   "metadata": {},
   "source": [
    "$$ \\hat \\beta_1 = \\frac{\\sum_{i=1}^n (x_i - \\overline x)(y_i - \\overline y)}{\\sum_{i=1}^n (x_i - \\overline x)^2} $$\n",
    "\n",
    "$$ \\hat \\beta_0 = \\overline y - \\hat \\beta_1 \\overline x $$\n",
    "\n",
    "Here:\n",
    "\n",
    "$$ \\overline y = \\frac{1}{n} \\sum_{i=1}^n y_i $$\n",
    "\n",
    "$$ \\overline x = \\frac{1}{n} \\sum_{i=1}^n x_i $$"
   ]
  },
  {
   "cell_type": "markdown",
   "id": "tight-crest",
   "metadata": {},
   "source": [
    "### Measuring Model Accuracy"
   ]
  },
  {
   "cell_type": "markdown",
   "id": "rotary-playing",
   "metadata": {},
   "source": [
    "**TSS: Total Sum of Squares**\n",
    "\n",
    "Worst guess (solid line) -> $\\overline y$\n",
    "\n",
    "Total Squared Error: error of worst guess\n",
    "\n",
    "$$TSS = \\sum_{i=1}^n (y_i - \\overline y)^2$$"
   ]
  },
  {
   "cell_type": "markdown",
   "id": "federal-artwork",
   "metadata": {},
   "source": [
    "$R^2$:\n",
    "\n",
    "We measure with $R^2$ how accurate our estimation coefficients are, that is, how well the regression line we draw fits the real data."
   ]
  },
  {
   "cell_type": "markdown",
   "id": "ancient-oxygen",
   "metadata": {},
   "source": [
    "$$ R^2 = \\frac{TSS - RSS}{TSS} = 1 - \\frac{RSS}{TSS} $$"
   ]
  },
  {
   "cell_type": "markdown",
   "id": "stupid-virginia",
   "metadata": {},
   "source": [
    "So $R^2$ tells you how much you compensate for the change in the data."
   ]
  },
  {
   "cell_type": "markdown",
   "id": "furnished-candy",
   "metadata": {},
   "source": [
    "The larger $R^2$ is (the closer it is to 1), the more successful your prediction is."
   ]
  },
  {
   "cell_type": "markdown",
   "id": "front-virus",
   "metadata": {},
   "source": [
    "$R^2$ is called `coefficient of determination`"
   ]
  },
  {
   "cell_type": "code",
   "execution_count": null,
   "id": "6270d345-3d09-49b5-962b-600636c8793b",
   "metadata": {},
   "outputs": [],
   "source": []
  }
 ],
 "metadata": {
  "kernelspec": {
   "display_name": "Python 3 (ipykernel)",
   "language": "python",
   "name": "python3"
  },
  "language_info": {
   "codemirror_mode": {
    "name": "ipython",
    "version": 3
   },
   "file_extension": ".py",
   "mimetype": "text/x-python",
   "name": "python",
   "nbconvert_exporter": "python",
   "pygments_lexer": "ipython3",
   "version": "3.10.13"
  }
 },
 "nbformat": 4,
 "nbformat_minor": 5
}
